{
 "cells": [
  {
   "cell_type": "markdown",
   "metadata": {},
   "source": [
    "## FizzBuzz"
   ]
  },
  {
   "cell_type": "markdown",
   "metadata": {},
   "source": [
    "### A Failed Test"
   ]
  },
  {
   "cell_type": "code",
   "execution_count": null,
   "metadata": {},
   "outputs": [],
   "source": [
    "FIZZBUZZ_TEST_CASES = {\n",
    "    3: \"Fizz\",\n",
    "    5: \"Buzz\",\n",
    "    7: \"7\",\n",
    "    15: \"FizzBuzz\",\n",
    "    100: \"Buzz\",\n",
    "    0: \"FizzBuzz\",\n",
    "    -3: \"Fizz\",\n",
    "}"
   ]
  },
  {
   "cell_type": "code",
   "execution_count": null,
   "metadata": {},
   "outputs": [],
   "source": [
    "def test_fizzbuzz(fizzbuzz):\n",
    "    for value in FIZZBUZZ_TEST_CASES:\n",
    "        res = fizzbuzz(value)\n",
    "        if res == FIZZBUZZ_TEST_CASES[value]:\n",
    "            print(f\"PASS: {value!r}\")\n",
    "        else:\n",
    "            print(f\"FAIL: {value!r} -> {res!r}\")        "
   ]
  },
  {
   "cell_type": "code",
   "execution_count": null,
   "metadata": {},
   "outputs": [],
   "source": [
    "try:\n",
    "    test_fizzbuzz(fizzbuzz)\n",
    "except Exception as e:\n",
    "    print(e)"
   ]
  },
  {
   "cell_type": "markdown",
   "metadata": {},
   "source": [
    "### Implementation"
   ]
  },
  {
   "cell_type": "code",
   "execution_count": null,
   "metadata": {},
   "outputs": [],
   "source": [
    "FIZZ = \"Fizz\"\n",
    "BUZZ= \"Buzz\"\n",
    "\n",
    "def fizzbuzz_a(value):\n",
    "    \"\"\"\n",
    "    For each multiple of 3, print \"Fizz\" instead of the value.\n",
    "    For each multiple of 5, print \"Buzz\" instead of the value.\n",
    "    For numbers which are multiples of bothe 3 and 5, print \"FizzBuzz\" instead of the value.\n",
    "    \n",
    "    :params value: Input value\n",
    "    :returns: Returns  \"Fizz\", \"Buzz\", \"FizzBuzz\", or string representation of the value.\n",
    "    \"\"\"\n",
    "    try:\n",
    "        if (value % 3 == 0) and (value % 5 == 0):\n",
    "            return FIZZ + BUZZ\n",
    "        elif (value % 3 == 0):\n",
    "            return FIZZ\n",
    "        elif (value % 5 == 0):\n",
    "            return BUZZ\n",
    "        else:\n",
    "            return str(value)\n",
    "    except Exception as e:\n",
    "        print(f\"{e!r}\")"
   ]
  },
  {
   "cell_type": "code",
   "execution_count": null,
   "metadata": {},
   "outputs": [],
   "source": [
    "test_fizzbuzz(fizzbuzz_a)"
   ]
  },
  {
   "cell_type": "code",
   "execution_count": null,
   "metadata": {},
   "outputs": [],
   "source": [
    "fizzbuzz_a(0)"
   ]
  },
  {
   "cell_type": "code",
   "execution_count": null,
   "metadata": {},
   "outputs": [],
   "source": [
    "fizzbuzz_a(\"Zero\")"
   ]
  },
  {
   "cell_type": "markdown",
   "metadata": {},
   "source": [
    "* Condensed version of the function"
   ]
  },
  {
   "cell_type": "code",
   "execution_count": null,
   "metadata": {},
   "outputs": [],
   "source": [
    "def fizzbuzz_b(value):\n",
    "    return (FIZZ * (value % 3 == 0) + BUZZ * (value % 5 == 0) or str(value))"
   ]
  },
  {
   "cell_type": "code",
   "execution_count": null,
   "metadata": {},
   "outputs": [],
   "source": [
    "test_fizzbuzz(fizzbuzz_b)"
   ]
  },
  {
   "cell_type": "code",
   "execution_count": null,
   "metadata": {},
   "outputs": [],
   "source": [
    "fizzbuzz_b(15)"
   ]
  },
  {
   "cell_type": "code",
   "execution_count": null,
   "metadata": {},
   "outputs": [],
   "source": [
    "fizzbuzz_b(\"Some string\")"
   ]
  },
  {
   "cell_type": "markdown",
   "metadata": {},
   "source": [
    "### Parametrization"
   ]
  },
  {
   "cell_type": "markdown",
   "metadata": {},
   "source": [
    "* You can have multiple parametrizations for a test function.\n",
    "    * can have multiple `@pytest.mark.para,etrize()` decorators\n",
    "    * can parametrize multiple `fixtures` per test\n",
    "    * can use `pytest_generate_tests()` to parametrize multiple parameters\n",
    "    * can use a combination of techniques\n",
    "    * can blow up into lots and lots of test cases very fast"
   ]
  },
  {
   "cell_type": "code",
   "execution_count": null,
   "metadata": {},
   "outputs": [],
   "source": []
  }
 ],
 "metadata": {
  "kernelspec": {
   "display_name": "Python 3",
   "language": "python",
   "name": "python3"
  },
  "language_info": {
   "codemirror_mode": {
    "name": "ipython",
    "version": 3
   },
   "file_extension": ".py",
   "mimetype": "text/x-python",
   "name": "python",
   "nbconvert_exporter": "python",
   "pygments_lexer": "ipython3",
   "version": "3.8.2"
  }
 },
 "nbformat": 4,
 "nbformat_minor": 4
}
